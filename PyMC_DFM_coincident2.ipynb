{
 "cells": [
  {
   "cell_type": "markdown",
   "id": "f06eb2d1",
   "metadata": {},
   "source": [
    "Coincident Index (Dynamic Factor Model)\n",
    "Based on the statsmodels example: \n",
    "https://www.statsmodels.org/dev/examples/notebooks/generated/statespace_dfm_coincident.html"
   ]
  },
  {
   "cell_type": "code",
   "execution_count": null,
   "id": "38b78324",
   "metadata": {},
   "outputs": [],
   "source": [
    "# 1. Imports\n",
    "import numpy as np\n",
    "import pandas as pd\n",
    "import matplotlib.pyplot as plt\n",
    "from pandas_datareader.data import DataReader\n",
    "from statsmodels.tsa.statespace.dynamic_factor import DynamicFactor\n",
    "import datetime"
   ]
  },
  {
   "cell_type": "code",
   "execution_count": null,
   "id": "052712a7",
   "metadata": {},
   "outputs": [],
   "source": [
    "# 2. Download the data\n",
    "# Series: INDPRO, PAYEMS, MANEMP, and RRSFS\n",
    "# Monthly data from 1959-01 to 2020-12\n",
    "start = datetime.datetime(1959, 1, 1)\n",
    "end = datetime.datetime(2020, 12, 31)"
   ]
  },
  {
   "cell_type": "code",
   "execution_count": null,
   "id": "379e7379",
   "metadata": {},
   "outputs": [],
   "source": [
    "data = pd.concat([\n",
    "    DataReader('INDPRO', 'fred', start, end),\n",
    "    DataReader('PAYEMS', 'fred', start, end),\n",
    "    DataReader('MANEMP', 'fred', start, end),\n",
    "    DataReader('RRSFS', 'fred', start, end),\n",
    "], axis=1)"
   ]
  },
  {
   "cell_type": "code",
   "execution_count": null,
   "id": "e7f11276",
   "metadata": {},
   "outputs": [],
   "source": [
    "data.columns = ['INDPRO', 'PAYEMS', 'MANEMP', 'RRSFS']\n",
    "data = data.dropna()"
   ]
  },
  {
   "cell_type": "code",
   "execution_count": null,
   "id": "7bfa2550",
   "metadata": {},
   "outputs": [],
   "source": [
    "# 3. Take the log and difference to get stationary series\n",
    "log_diff = np.log(data).diff().dropna()"
   ]
  },
  {
   "cell_type": "code",
   "execution_count": null,
   "id": "9a8f9e0b",
   "metadata": {},
   "outputs": [],
   "source": [
    "# 4. Fit the Dynamic Factor Model\n",
    "mod = DynamicFactor(log_diff, k_factors=1, factor_order=1, error_order=1)\n",
    "res = mod.fit(disp=False)\n",
    "print(res.summary())"
   ]
  },
  {
   "cell_type": "code",
   "execution_count": null,
   "id": "511c5ee7",
   "metadata": {},
   "outputs": [],
   "source": [
    "# 5. Plot the estimated factor\n",
    "fig, ax = plt.subplots(figsize=(10, 4))\n",
    "ax.plot(res.fittedvalues.index, res.fittedvalues.iloc[:, 0], label='INDPRO')\n",
    "ax.plot(res.fittedvalues.index, res.fittedvalues.iloc[:, 1], label='PAYEMS')\n",
    "ax.plot(res.fittedvalues.index, res.fittedvalues.iloc[:, 2], label='MANEMP')\n",
    "ax.plot(res.fittedvalues.index, res.fittedvalues.iloc[:, 3], label='RRSFS')\n",
    "ax.legend()\n",
    "ax.set(title='Fitted Values from Dynamic Factor Model')\n",
    "plt.show()"
   ]
  },
  {
   "cell_type": "code",
   "execution_count": null,
   "id": "4973b989",
   "metadata": {},
   "outputs": [],
   "source": [
    "# 6. Plot the latent factor\n",
    "fig, ax = plt.subplots(figsize=(10, 4))\n",
    "ax.plot(res.factors.filtered[0], label='Estimated common factor')\n",
    "ax.set(title='Estimated Coincident Index', ylabel='Value')\n",
    "ax.legend()\n",
    "plt.show()"
   ]
  }
 ],
 "metadata": {
  "jupytext": {
   "cell_metadata_filter": "-all",
   "main_language": "python",
   "notebook_metadata_filter": "-all"
  }
 },
 "nbformat": 4,
 "nbformat_minor": 5
}
